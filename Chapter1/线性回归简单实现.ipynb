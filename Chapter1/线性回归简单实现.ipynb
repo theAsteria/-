{
 "cells": [
  {
   "cell_type": "code",
   "execution_count": 1,
   "id": "596a7e8f",
   "metadata": {},
   "outputs": [],
   "source": [
    "from torch import nn\n",
    "import numpy as np\n",
    "import torch\n",
    "from torch.utils import data\n",
    "from d2l import torch as d2l\n",
    "\n",
    "true_w=torch.tensor([2,-3.4])\n",
    "true_b=4.2\n",
    "\n",
    "features,labels=d2l.synthetic_data(true_w,true_b,1000)\n",
    "#生成的是1000条在这条线性函数附近的数据点"
   ]
  },
  {
   "cell_type": "code",
   "execution_count": 2,
   "id": "a92b45ea",
   "metadata": {},
   "outputs": [
    {
     "data": {
      "text/plain": [
       "[tensor([[-1.2077,  1.5770],\n",
       "         [-0.4132,  0.3185],\n",
       "         [-0.1515,  1.3448],\n",
       "         [-0.4575,  0.0487],\n",
       "         [-1.6717,  0.6813],\n",
       "         [ 1.3169, -2.3419],\n",
       "         [-0.0960,  0.1824],\n",
       "         [-2.3568,  0.5474],\n",
       "         [ 0.1898, -0.4023],\n",
       "         [ 0.8195,  1.3840]]),\n",
       " tensor([[-3.5717],\n",
       "         [ 2.2870],\n",
       "         [-0.6754],\n",
       "         [ 3.1262],\n",
       "         [-1.4746],\n",
       "         [14.7915],\n",
       "         [ 3.3943],\n",
       "         [-2.3734],\n",
       "         [ 5.9456],\n",
       "         [ 1.1366]])]"
      ]
     },
     "execution_count": 2,
     "metadata": {},
     "output_type": "execute_result"
    }
   ],
   "source": [
    "def load_array(data_arrays,batch_size,is_train=True):\n",
    "    'y=Wx+b'\n",
    "    dataset=data.TensorDataset(*data_arrays)# 拿取数据集\n",
    "    return data.DataLoader(dataset,batch_size,shuffle=is_train) #按批次，随机抽取features和label\n",
    "\n",
    "batch_size=10\n",
    "\n",
    "data_iter=load_array((features,labels),batch_size)\n",
    "\n",
    "next(iter(data_iter))#得到一个X，一个Y\n",
    "#特征值是X"
   ]
  },
  {
   "cell_type": "code",
   "execution_count": 3,
   "id": "dc42af3f",
   "metadata": {},
   "outputs": [],
   "source": [
    "net = nn.Sequential(nn.Linear(2,1)) #输入的是x  for example:[-0.6037, -1.2744] \n",
    "#线性层的内部计算：output = input @ weight.T + bias"
   ]
  },
  {
   "cell_type": "code",
   "execution_count": 4,
   "id": "664bdb9a",
   "metadata": {},
   "outputs": [
    {
     "data": {
      "text/plain": [
       "tensor([0.])"
      ]
     },
     "execution_count": 4,
     "metadata": {},
     "output_type": "execute_result"
    }
   ],
   "source": [
    "net[0].weight.data.normal_(0,0.01)#将W矩阵的两个值，按照正态分布，均值为0，方差为0.01赋随机值\n",
    "net[0].bias.data.fill_(0)"
   ]
  },
  {
   "cell_type": "code",
   "execution_count": 5,
   "id": "1ac082f6",
   "metadata": {},
   "outputs": [],
   "source": [
    "loss =nn.MSELoss() #计算误差"
   ]
  },
  {
   "cell_type": "code",
   "execution_count": 6,
   "id": "22f59eab",
   "metadata": {},
   "outputs": [],
   "source": [
    "trainer=torch.optim.SGD(net.parameters(),lr=0.03)#SGD 随机梯度下降，\n",
    "#net.parameters() =》所有的参数，包括W和b"
   ]
  },
  {
   "cell_type": "code",
   "execution_count": 7,
   "id": "6d0c82b5",
   "metadata": {},
   "outputs": [
    {
     "name": "stdout",
     "output_type": "stream",
     "text": [
      "epoch:1,loss:0.000422\n",
      "epoch:2,loss:0.000096\n",
      "epoch:3,loss:0.000096\n"
     ]
    }
   ],
   "source": [
    "num_epoches=3 #设置轮数\n",
    "for epoch in range(num_epoches): \n",
    "    for X,y in data_iter: \n",
    "        l=loss(net(X),y) #计算这批数据的损失 \n",
    "        trainer.zero_grad() #梯度清零\n",
    "        l.backward() #反向传播\n",
    "        trainer.step() #进行一步梯度下降\n",
    "    l=loss(net(features),labels) #labels 是 y , features 是 X\n",
    "    print(f'epoch:{epoch+1},loss:{l:f}')"
   ]
  }
 ],
 "metadata": {
  "kernelspec": {
   "display_name": "Python 3 (ipykernel)",
   "language": "python",
   "name": "python3"
  },
  "language_info": {
   "codemirror_mode": {
    "name": "ipython",
    "version": 3
   },
   "file_extension": ".py",
   "mimetype": "text/x-python",
   "name": "python",
   "nbconvert_exporter": "python",
   "pygments_lexer": "ipython3",
   "version": "3.10.8"
  }
 },
 "nbformat": 4,
 "nbformat_minor": 5
}
