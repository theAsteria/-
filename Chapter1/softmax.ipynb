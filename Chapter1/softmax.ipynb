{
 "cells": [
  {
   "cell_type": "code",
   "execution_count": 1,
   "id": "62476b3c-c1fe-4deb-a041-d5dc9b7fe2b3",
   "metadata": {},
   "outputs": [
    {
     "name": "stdout",
     "output_type": "stream",
     "text": [
      "235\n"
     ]
    }
   ],
   "source": [
    "\n",
    "import matplotlib.pyplot as plt\n",
    "import torch\n",
    "import torchvision\n",
    "from torchvision import transforms\n",
    "from torch.utils import data\n",
    "from d2l import torch as d2l\n",
    "from IPython import display\n",
    "\n",
    "batch_size=256\n",
    "train_iter,test_iter=d2l.load_data_fashion_mnist(batch_size)\n",
    "print(len(train_iter))"
   ]
  },
  {
   "cell_type": "code",
   "execution_count": 2,
   "id": "0dabff4a-d2e4-456c-a14d-99daa346e6e6",
   "metadata": {},
   "outputs": [],
   "source": [
    "nums_inputs=784#展开每个图像，变成长度为784的向量\n",
    "nums_outputs=10#网络输出维度=10\n",
    "\n",
    "W=torch.normal(0,0.01,size=(nums_inputs,nums_outputs),dtype=torch.float32,requires_grad=True)\n",
    "b=torch.zeros(nums_outputs,requires_grad=True)"
   ]
  },
  {
   "cell_type": "code",
   "execution_count": 3,
   "id": "ff1e67cb-0a17-4e6e-ac5b-0a835ed53bea",
   "metadata": {},
   "outputs": [],
   "source": [
    "def softmax(X):\n",
    "    X_exp=torch.exp(X)\n",
    "    partition=X_exp.sum(1,keepdim=True)\n",
    "    return X_exp/partition"
   ]
  },
  {
   "cell_type": "code",
   "execution_count": 4,
   "id": "1f54e467-7864-4426-8764-b8317365e0ba",
   "metadata": {},
   "outputs": [
    {
     "data": {
      "text/plain": [
       "(tensor([[-2.3448,  2.3969,  0.1807, -1.4688, -1.3829],\n",
       "         [ 0.1939, -1.4819,  1.1418,  0.1975,  1.6751]]),\n",
       " tensor([[0.0075, 0.8609, 0.0939, 0.0180, 0.0197],\n",
       "         [0.1091, 0.0204, 0.2814, 0.1095, 0.4797]]),\n",
       " tensor([[1.],\n",
       "         [1.]]))"
      ]
     },
     "execution_count": 4,
     "metadata": {},
     "output_type": "execute_result"
    }
   ],
   "source": [
    "X=torch.normal(0,1,(2,5))\n",
    "X_prob=softmax(X)\n",
    "X,X_prob,X_prob.sum(1,keepdim=True)"
   ]
  },
  {
   "cell_type": "code",
   "execution_count": 5,
   "id": "0aed4913-62dd-401e-a4f0-9872f5dad2ef",
   "metadata": {},
   "outputs": [],
   "source": [
    "def net(X):\n",
    "    return softmax(torch.matmul(X.reshape((-1,W.shape[0])),W)+b) #reshape成一个2D的，shape[0]=784\n",
    "#256*784的矩阵"
   ]
  },
  {
   "cell_type": "code",
   "execution_count": 6,
   "id": "1dac9d17-d25d-4077-89bc-d2e9abb3d15d",
   "metadata": {},
   "outputs": [
    {
     "data": {
      "text/plain": [
       "tensor([0.1000, 0.5000])"
      ]
     },
     "execution_count": 6,
     "metadata": {},
     "output_type": "execute_result"
    }
   ],
   "source": [
    "y=torch.tensor([0,2])\n",
    "y_hat=torch.tensor([[0.1,0.3,0.6],[0.3,0.2,0.5]])\n",
    "y_hat[[0,1],y]#这个意思是从y[0]里拿0号元素，从y[1]里拿2号元素\n"
   ]
  },
  {
   "cell_type": "code",
   "execution_count": 7,
   "id": "acf9ac48-f203-463d-8558-f39b9fa036a0",
   "metadata": {},
   "outputs": [
    {
     "data": {
      "text/plain": [
       "tensor([2.3026, 0.6931])"
      ]
     },
     "execution_count": 7,
     "metadata": {},
     "output_type": "execute_result"
    }
   ],
   "source": [
    "def cross_entropy(y_hat,y):\n",
    "    return -torch.log(y_hat[range(len(y_hat)),y])\n",
    "\n",
    "cross_entropy(y_hat,y)"
   ]
  },
  {
   "cell_type": "code",
   "execution_count": 8,
   "id": "77a4e065-aae2-4596-b7ff-dd505383ef54",
   "metadata": {},
   "outputs": [
    {
     "data": {
      "text/plain": [
       "0.5"
      ]
     },
     "execution_count": 8,
     "metadata": {},
     "output_type": "execute_result"
    }
   ],
   "source": [
    "def accuracy(y_hat,y):\n",
    "    if len(y_hat.shape)>1 and y_hat.shape[1]>1:\n",
    "            y_hat=y_hat.argmax(axis=1)#找到最大的索引\n",
    "    #print(y_hat)\n",
    "    cmp=y_hat.type(y.dtype) ==y\n",
    "    #print(cmp)\n",
    "    return float(cmp.type(y.dtype).sum())/len(y)\n",
    "\n",
    "accuracy(y_hat,y)"
   ]
  },
  {
   "cell_type": "code",
   "execution_count": 9,
   "id": "a8466aae-ff8d-4bc9-a7ce-d5a271663b07",
   "metadata": {},
   "outputs": [],
   "source": [
    "def evaluate_accuracy(net,data_iter):\n",
    "    if isinstance(net,torch.nn.Module):\n",
    "        net.eval()\n",
    "    metric = Accumulator(2) #正确预测数，预测总数\n",
    "    for X,y in data_iter:\n",
    "        metric.add(accuracy(net(X),y),y.numel())\n",
    "    return metric[0]/metric[1]"
   ]
  },
  {
   "cell_type": "code",
   "execution_count": 10,
   "id": "e46a03cc-8917-40f6-9788-e065c530f18d",
   "metadata": {},
   "outputs": [
    {
     "data": {
      "text/plain": [
       "0.000348828125"
      ]
     },
     "execution_count": 10,
     "metadata": {},
     "output_type": "execute_result"
    }
   ],
   "source": [
    "class Accumulator:\n",
    "    def __init__(self,n):\n",
    "        self.data=[0.0]*n\n",
    "    def add(self,*args):\n",
    "        self.data=[a+float(b) for a,b in zip(self.data,args)]\n",
    "    def reset(self):\n",
    "        self.data=[0.0]*len(self.data)\n",
    "    def __getitem__(self,dix):\n",
    "        return self.data[dix]\n",
    "evaluate_accuracy(net,test_iter)"
   ]
  },
  {
   "cell_type": "code",
   "execution_count": 11,
   "id": "10ad78a7-4981-491c-b18a-c0d86331b7c1",
   "metadata": {},
   "outputs": [],
   "source": [
    "class Animator:  \n",
    "    \"\"\"在动画中绘制数据。\"\"\"\n",
    "    def __init__(self, xlabel=None, ylabel=None, legend=None, xlim=None,\n",
    "                 ylim=None, xscale='linear', yscale='linear',\n",
    "                 fmts=('-', 'm--', 'g-.', 'r:'), nrows=1, ncols=1,\n",
    "                 figsize=(3.5, 2.5)):\n",
    "        if legend is None:\n",
    "            legend = []\n",
    "        d2l.use_svg_display()\n",
    "        self.fig, self.axes = d2l.plt.subplots(nrows, ncols, figsize=figsize)\n",
    "        if nrows * ncols == 1:\n",
    "            self.axes = [self.axes,]\n",
    "        self.config_axes = lambda: d2l.set_axes(self.axes[\n",
    "            0], xlabel, ylabel, xlim, ylim, xscale, yscale, legend)\n",
    "        self.X, self.Y, self.fmts = None, None, fmts\n",
    "\n",
    "    def add(self, x, y):\n",
    "        if not hasattr(y, \"__len__\"):\n",
    "            y = [y]\n",
    "        n = len(y)\n",
    "        if not hasattr(x, \"__len__\"):\n",
    "            x = [x] * n\n",
    "        if not self.X:\n",
    "            self.X = [[] for _ in range(n)]\n",
    "        if not self.Y:\n",
    "            self.Y = [[] for _ in range(n)]\n",
    "        for i, (a, b) in enumerate(zip(x, y)):\n",
    "            if a is not None and b is not None:\n",
    "                self.X[i].append(a)\n",
    "                self.Y[i].append(b)\n",
    "        self.axes[0].cla()\n",
    "        for x, y, fmt in zip(self.X, self.Y, self.fmts):\n",
    "            self.axes[0].plot(x, y, fmt)\n",
    "        self.config_axes()\n",
    "        display.display(self.fig)\n",
    "        display.clear_output(wait=True)"
   ]
  },
  {
   "cell_type": "code",
   "execution_count": 12,
   "id": "0d6b66d9-f3a4-4bd8-8fae-84242a2caf3f",
   "metadata": {},
   "outputs": [],
   "source": [
    "lr=0.01\n",
    "\n",
    "def updater(batch_size):\n",
    "    return d2l.sgd([W,b],lr,batch_size)\n",
    "    "
   ]
  },
  {
   "cell_type": "code",
   "execution_count": 13,
   "id": "dd949f10-7064-4d65-b51b-eae152c1ff7e",
   "metadata": {},
   "outputs": [],
   "source": [
    "def train_epoch_ch3(net,train_iter,loss,updater):\n",
    "    if isinstance(net,torch.nn.Module):\n",
    "        net.train()\n",
    "    metric=Accumulator(3)\n",
    "    for X,y in train_iter:\n",
    "        y_hat=net(X)\n",
    "        l=loss(y_hat,y)\n",
    "        if isinstance(updater,torch.optim.Optimizer):\n",
    "            updater.zero_grad()\n",
    "            l.backward()\n",
    "            updater.step()\n",
    "            metric.add(\n",
    "                float(1)*len(y),accuracy(y_hat,y),y.size().numel()\n",
    "            )\n",
    "        else:\n",
    "            l.sum().backward()#\n",
    "            updater(X.shape[0])#梯度的大小\n",
    "            metric.add(float(l.sum()),accuracy(y_hat,y),y.numel())\n",
    "    return metric[0]/metric[2],metric[1]/metric[2]"
   ]
  },
  {
   "cell_type": "code",
   "execution_count": 14,
   "id": "da50d42b-f6a5-4039-9035-ccc1212fd3f2",
   "metadata": {},
   "outputs": [],
   "source": [
    "def train_ch3(net,train_iter,test_iter,loss,num_epoches,updater):\n",
    "    for epoch in range(num_epoches):\n",
    "        train_metrics=train_epoch_ch3(net,train_iter,loss,updater)\n",
    "        test_acc=evaluate_accuracy(net,test_iter)\n",
    "    train_loss,train_acc=train_metrics"
   ]
  },
  {
   "cell_type": "code",
   "execution_count": 15,
   "id": "e465c330-7f9f-45bb-bf27-2eeeafd28874",
   "metadata": {},
   "outputs": [],
   "source": [
    "num_epochs = 10\n",
    "train_ch3(net, train_iter, test_iter, cross_entropy, num_epochs, updater)"
   ]
  },
  {
   "cell_type": "code",
   "execution_count": 16,
   "id": "9b087b85-d2b6-4490-a386-ba49d911adb8",
   "metadata": {},
   "outputs": [
    {
     "data": {
      "image/png": "[encoded data removed]",
      "text/plain": [
       "<Figure size 900x150 with 6 Axes>"
      ]
     },
     "metadata": {},
     "output_type": "display_data"
    }
   ],
   "source": [
    "def predict_ch3(net,test_iter,n=6):\n",
    "    for X,y in test_iter:\n",
    "        break\n",
    "    trues=d2l.get_fashion_mnist_labels(y)\n",
    "    preds=d2l.get_fashion_mnist_labels(net(X).argmax(axis=1))\n",
    "    titles=[true+'\\n'+pred for true,pred in zip(trues,preds)]\n",
    "    d2l.show_images(X[0:n].reshape((n,28,28)),1,n,titles=titles[0:n])\n",
    "predict_ch3(net,test_iter)"
   ]
  },
  {
   "cell_type": "code",
   "execution_count": null,
   "id": "581d9efe-f6c1-4a90-b446-475876a263a7",
   "metadata": {},
   "outputs": [],
   "source": []
  }
 ],
 "metadata": {
  "kernelspec": {
   "display_name": "Python 3 (ipykernel)",
   "language": "python",
   "name": "python3"
  },
  "language_info": {
   "codemirror_mode": {
    "name": "ipython",
    "version": 3
   },
   "file_extension": ".py",
   "mimetype": "text/x-python",
   "name": "python",
   "nbconvert_exporter": "python",
   "pygments_lexer": "ipython3",
   "version": "3.10.8"
  }
 },
 "nbformat": 4,
 "nbformat_minor": 5
}
