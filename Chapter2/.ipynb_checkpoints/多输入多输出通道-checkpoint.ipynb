{
 "cells": [
  {
   "cell_type": "code",
   "execution_count": 1,
   "id": "e59feae2-d83f-481a-a50f-306df6664a29",
   "metadata": {},
   "outputs": [],
   "source": [
    "import torch\n",
    "from d2l import torch as d2l\n",
    "def corr2d_multi_int(X,K):\n",
    "    return sum(d2l.corr2d(x,k) for x,k in zip(X,K))"
   ]
  },
  {
   "cell_type": "code",
   "execution_count": 2,
   "id": "e5cd503a-67a9-4874-87aa-630d8cdc18b9",
   "metadata": {},
   "outputs": [
    {
     "data": {
      "text/plain": [
       "tensor([[[1., 2.],\n",
       "         [3., 4.]],\n",
       "\n",
       "        [[0., 1.],\n",
       "         [2., 3.]]])"
      ]
     },
     "execution_count": 2,
     "metadata": {},
     "output_type": "execute_result"
    }
   ],
   "source": [
    "X=torch.tensor([[[0.0,1.0,2.0],[3.0,4.0,5.0],[6.0,7.0,8.0]],\n",
    "               [[1.0,2.0,3.0],[4.0,5.0,6.0],[7.0,8.0,9.0]]])\n",
    "K=torch.tensor([[[1.0,2.0],[3.0,4.0]],[[0.0,1.0],[2.0,3.0]]])\n",
    "K"
   ]
  },
  {
   "cell_type": "code",
   "execution_count": 3,
   "id": "6fa49d92-87f0-4f01-b26c-85baf2e690bc",
   "metadata": {},
   "outputs": [
    {
     "data": {
      "text/plain": [
       "tensor([[ 52.,  68.],\n",
       "        [100., 116.]])"
      ]
     },
     "execution_count": 3,
     "metadata": {},
     "output_type": "execute_result"
    }
   ],
   "source": [
    "corr2d_multi_int(X,K)"
   ]
  },
  {
   "cell_type": "code",
   "execution_count": 4,
   "id": "b2d8be5e-377f-4fc9-a94f-6cfeb7a2dc9f",
   "metadata": {},
   "outputs": [
    {
     "data": {
      "text/plain": [
       "tensor([[[[1., 2.],\n",
       "          [3., 4.]],\n",
       "\n",
       "         [[0., 1.],\n",
       "          [2., 3.]]],\n",
       "\n",
       "\n",
       "        [[[2., 3.],\n",
       "          [4., 5.]],\n",
       "\n",
       "         [[1., 2.],\n",
       "          [3., 4.]]],\n",
       "\n",
       "\n",
       "        [[[3., 4.],\n",
       "          [5., 6.]],\n",
       "\n",
       "         [[2., 3.],\n",
       "          [4., 5.]]]])"
      ]
     },
     "execution_count": 4,
     "metadata": {},
     "output_type": "execute_result"
    }
   ],
   "source": [
    "def corr2d_multi_in_out(X,K):\n",
    "    return torch.stack([corr2d_multi_int(X,k) for k in K],0)\n",
    "\n",
    "K=torch.stack((K,K+1,K+2),0)\n",
    "K\n"
   ]
  },
  {
   "cell_type": "code",
   "execution_count": 5,
   "id": "c26dc0e8-260c-4602-96cf-e651c9bd75fc",
   "metadata": {},
   "outputs": [
    {
     "data": {
      "text/plain": [
       "tensor([[[ 52.,  68.],\n",
       "         [100., 116.]],\n",
       "\n",
       "        [[ 72.,  96.],\n",
       "         [144., 168.]],\n",
       "\n",
       "        [[ 92., 124.],\n",
       "         [188., 220.]]])"
      ]
     },
     "execution_count": 5,
     "metadata": {},
     "output_type": "execute_result"
    }
   ],
   "source": [
    "corr2d_multi_in_out(X,K)"
   ]
  },
  {
   "cell_type": "markdown",
   "id": "bf8330dc-e139-4e56-b023-b5c7a1addb32",
   "metadata": {},
   "source": [
    "1*1的卷积"
   ]
  },
  {
   "cell_type": "code",
   "execution_count": 6,
   "id": "b1257218-b963-4138-bf5e-22f5d0b157c4",
   "metadata": {},
   "outputs": [
    {
     "data": {
      "text/plain": [
       "tensor([[[[-1.4783]],\n",
       "\n",
       "         [[ 0.2696]],\n",
       "\n",
       "         [[-1.2519]]],\n",
       "\n",
       "\n",
       "        [[[-0.2477]],\n",
       "\n",
       "         [[ 0.6742]],\n",
       "\n",
       "         [[-0.2477]]]])"
      ]
     },
     "execution_count": 6,
     "metadata": {},
     "output_type": "execute_result"
    }
   ],
   "source": [
    "def corr2d_multi_in_out_1x1(X,K):\n",
    "    c_i,h,w=X.shape\n",
    "    c_o=K.shape[0]\n",
    "    X=X.reshape((c_i,h*w))\n",
    "    K=K.reshape((c_o,c_i))\n",
    "    Y=torch.matmul(K,X)\n",
    "    return Y.reshape((c_o,h,w))\n",
    "\n",
    "X=torch.normal(0,1,(3,3,3))\n",
    "K=torch.normal(0,1,(2,3,1,1))\n",
    "\n",
    "Y1=corr2d_multi_in_out_1x1(X,K)\n",
    "Y2=corr2d_multi_in_out(X,K)\n",
    "\n",
    "assert float(torch.abs(Y1-Y2).sum())<1e-6\n",
    "K"
   ]
  },
  {
   "cell_type": "code",
   "execution_count": 7,
   "id": "27ac9eae-7331-42d5-83bf-627758ba89c5",
   "metadata": {},
   "outputs": [
    {
     "data": {
      "text/plain": [
       "torch.Size([3, 3, 3])"
      ]
     },
     "execution_count": 7,
     "metadata": {},
     "output_type": "execute_result"
    }
   ],
   "source": [
    "X.shape"
   ]
  },
  {
   "cell_type": "code",
   "execution_count": 8,
   "id": "c00e18c4-7fbe-4e8d-bf27-196da55a4e21",
   "metadata": {},
   "outputs": [
    {
     "data": {
      "text/plain": [
       "tensor([[0.0407, 1.0614, 0.7877],\n",
       "        [0.4444, 1.1959, 0.2070]])"
      ]
     },
     "execution_count": 8,
     "metadata": {},
     "output_type": "execute_result"
    }
   ],
   "source": [
    "K=torch.normal(0,1,(2,3,1,1))\n",
    "K=K.reshape((2,3))\n",
    "K"
   ]
  },
  {
   "cell_type": "code",
   "execution_count": 9,
   "id": "2b91d485-9f85-4300-bdfa-0e16312a86ee",
   "metadata": {},
   "outputs": [
    {
     "data": {
      "text/plain": [
       "tensor([[[ 7.0528e-01, -6.6661e-01,  1.0672e+00],\n",
       "         [ 7.5870e-01,  6.0122e-01, -7.3786e-01],\n",
       "         [-1.3015e+00,  1.1065e+00, -7.1500e-01]],\n",
       "\n",
       "        [[-1.5203e+00,  1.3234e+00,  1.1500e+00],\n",
       "         [ 4.2013e-01,  7.0590e-01, -3.5055e-01],\n",
       "         [-1.7595e+00, -8.0103e-01,  2.4193e-02]],\n",
       "\n",
       "        [[ 2.7468e+00, -1.0438e+00, -8.4316e-01],\n",
       "         [-1.3740e+00, -2.6963e-01, -2.2793e-03],\n",
       "         [-1.4213e+00,  6.1028e-02,  1.7543e+00]]])"
      ]
     },
     "execution_count": 9,
     "metadata": {},
     "output_type": "execute_result"
    }
   ],
   "source": [
    "X"
   ]
  },
  {
   "cell_type": "code",
   "execution_count": null,
   "id": "05ec2fdc-04e7-471e-9825-6258f7f651a7",
   "metadata": {},
   "outputs": [],
   "source": []
  },
  {
   "cell_type": "code",
   "execution_count": null,
   "id": "1b50126c-9d0e-41f4-b3c9-b33f07d00c32",
   "metadata": {},
   "outputs": [],
   "source": []
  }
 ],
 "metadata": {
  "kernelspec": {
   "display_name": "Python 3 (ipykernel)",
   "language": "python",
   "name": "python3"
  },
  "language_info": {
   "codemirror_mode": {
    "name": "ipython",
    "version": 3
   },
   "file_extension": ".py",
   "mimetype": "text/x-python",
   "name": "python",
   "nbconvert_exporter": "python",
   "pygments_lexer": "ipython3",
   "version": "3.10.8"
  }
 },
 "nbformat": 4,
 "nbformat_minor": 5
}
