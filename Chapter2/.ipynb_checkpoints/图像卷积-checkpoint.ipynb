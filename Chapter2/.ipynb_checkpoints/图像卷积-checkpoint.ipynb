{
 "cells": [
  {
   "attachments": {
    "d90bad5e-f72d-499b-8d02-5133c0f746b5.png": {
     "image/png": "[encoded data removed]"
    }
   },
   "cell_type": "markdown",
   "id": "e0a133d7-6d7f-4a2f-98bb-d4e47dac0d27",
   "metadata": {},
   "source": [
    "W是输入大小，k是核的长，p是填充，s是步长\n",
    "\n",
    "![image.png](attachment:d90bad5e-f72d-499b-8d02-5133c0f746b5.png)"
   ]
  },
  {
   "cell_type": "markdown",
   "id": "b85cf2b4-86ef-41d4-ad73-5b2942db4265",
   "metadata": {},
   "source": [
    "k是奇数，s = 1，padding尺寸为卷积核的1/2取整。\n",
    "此时，输入＝输出大小\n"
   ]
  },
  {
   "cell_type": "code",
   "execution_count": 3,
   "id": "5f3a2880-1ac0-4c23-9906-20cb10112d82",
   "metadata": {},
   "outputs": [],
   "source": [
    "import torch\n",
    "from torch import nn\n",
    "from d2l import torch as d2l\n",
    "\n",
    "def corr2d(X,K):\n",
    "    h,w=K.shape\n",
    "    Y=torch.zeros((X.shape[0]-h+1,X.shape[1]-w+1))\n",
    "    for i in range(Y.shape[0]):\n",
    "        for j in range(Y.shape[1]):\n",
    "            Y[i,j]=(X[i:i+h,j:j+w]*K).sum()\n",
    "    return Y"
   ]
  },
  {
   "cell_type": "code",
   "execution_count": 4,
   "id": "8557a090-3aaf-4b6a-8be1-eb9afc2c139c",
   "metadata": {},
   "outputs": [
    {
     "data": {
      "text/plain": [
       "tensor([[19., 25.],\n",
       "        [37., 43.]])"
      ]
     },
     "execution_count": 4,
     "metadata": {},
     "output_type": "execute_result"
    }
   ],
   "source": [
    "X=torch.tensor([[0.0,1.0,2.0],[3.0,4.0,5.0],[6.0,7.0,8.0]])\n",
    "K=torch.tensor([[0.0,1.0],[2.0,3.0]])\n",
    "corr2d(X,K)"
   ]
  },
  {
   "cell_type": "code",
   "execution_count": 5,
   "id": "4d02dda4-4e00-49a5-bfa1-96b4985025de",
   "metadata": {},
   "outputs": [],
   "source": [
    "class Conv2D(nn.Module):\n",
    "    def __init__(self,kernel_size):\n",
    "        super().__init__()\n",
    "        self.weight=nn.Parameter(torch.rand(kernel_size))\n",
    "        self.bias=nn.Parameter(torch.zeros(1))\n",
    "    def forward(self,x):\n",
    "        return corrd2(x,self.weight)+self.bias"
   ]
  },
  {
   "cell_type": "code",
   "execution_count": 6,
   "id": "027d7c93-5df3-42d8-9454-857d3ffc04dc",
   "metadata": {},
   "outputs": [
    {
     "data": {
      "text/plain": [
       "tensor([[1., 1., 0., 0., 0., 0., 1., 1.],\n",
       "        [1., 1., 0., 0., 0., 0., 1., 1.],\n",
       "        [1., 1., 0., 0., 0., 0., 1., 1.],\n",
       "        [1., 1., 0., 0., 0., 0., 1., 1.],\n",
       "        [1., 1., 0., 0., 0., 0., 1., 1.],\n",
       "        [1., 1., 0., 0., 0., 0., 1., 1.]])"
      ]
     },
     "execution_count": 6,
     "metadata": {},
     "output_type": "execute_result"
    }
   ],
   "source": [
    "X=torch.ones((6,8))\n",
    "X[:,2:6]=0\n",
    "X"
   ]
  },
  {
   "cell_type": "code",
   "execution_count": 7,
   "id": "c61114bf-f33d-4a70-a45e-a01124569ed3",
   "metadata": {},
   "outputs": [],
   "source": [
    "K=torch.tensor([[1.0,-1.0]])"
   ]
  },
  {
   "cell_type": "code",
   "execution_count": 8,
   "id": "25e55db1-3da8-4e8b-991a-7f9a27c00d46",
   "metadata": {},
   "outputs": [
    {
     "data": {
      "text/plain": [
       "tensor([[ 0.,  1.,  0.,  0.,  0., -1.,  0.],\n",
       "        [ 0.,  1.,  0.,  0.,  0., -1.,  0.],\n",
       "        [ 0.,  1.,  0.,  0.,  0., -1.,  0.],\n",
       "        [ 0.,  1.,  0.,  0.,  0., -1.,  0.],\n",
       "        [ 0.,  1.,  0.,  0.,  0., -1.,  0.],\n",
       "        [ 0.,  1.,  0.,  0.,  0., -1.,  0.]])"
      ]
     },
     "execution_count": 8,
     "metadata": {},
     "output_type": "execute_result"
    }
   ],
   "source": [
    "Y=corr2d(X,K)\n",
    "Y"
   ]
  },
  {
   "cell_type": "code",
   "execution_count": 9,
   "id": "e02d1674-0bdf-418f-a3ad-b18cfc4c0e3a",
   "metadata": {},
   "outputs": [
    {
     "data": {
      "text/plain": [
       "tensor([[0., 0., 0., 0., 0.],\n",
       "        [0., 0., 0., 0., 0.],\n",
       "        [0., 0., 0., 0., 0.],\n",
       "        [0., 0., 0., 0., 0.],\n",
       "        [0., 0., 0., 0., 0.],\n",
       "        [0., 0., 0., 0., 0.],\n",
       "        [0., 0., 0., 0., 0.],\n",
       "        [0., 0., 0., 0., 0.]])"
      ]
     },
     "execution_count": 9,
     "metadata": {},
     "output_type": "execute_result"
    }
   ],
   "source": [
    "corr2d(X.t(),K)"
   ]
  },
  {
   "cell_type": "code",
   "execution_count": 10,
   "id": "7cdd5fbe-395e-4d3f-981d-7b7a48c59d14",
   "metadata": {},
   "outputs": [
    {
     "name": "stdout",
     "output_type": "stream",
     "text": [
      "batch2,loss4.832\n",
      "batch4,loss0.988\n",
      "batch6,loss0.238\n",
      "batch8,loss0.070\n",
      "batch10,loss0.024\n"
     ]
    }
   ],
   "source": [
    "conv2d=nn.Conv2d(1,1,kernel_size=(1,2),bias=False)\n",
    "\n",
    "X=X.reshape((1,1,6,8))\n",
    "Y=Y.reshape((1,1,6,7))\n",
    "for i in range(10):\n",
    "    Y_hat=conv2d(X)\n",
    "    l=(Y_hat-Y)**2\n",
    "    conv2d.zero_grad()\n",
    "    l.sum().backward()\n",
    "    conv2d.weight.data[:] -=3e-2 *conv2d.weight.grad\n",
    "    if (i+1)%2==0:\n",
    "        print(f'batch{i+1},loss{l.sum():.3f}')"
   ]
  },
  {
   "cell_type": "code",
   "execution_count": 12,
   "id": "32e17726-53ac-49e4-b943-bec412a43671",
   "metadata": {},
   "outputs": [
    {
     "data": {
      "text/plain": [
       "tensor([[ 1.0043, -0.9746]])"
      ]
     },
     "execution_count": 12,
     "metadata": {},
     "output_type": "execute_result"
    }
   ],
   "source": [
    "conv2d.weight.data.reshape((1,2))"
   ]
  },
  {
   "cell_type": "code",
   "execution_count": 14,
   "id": "cb030d46-84f4-4c4c-8301-aba268680931",
   "metadata": {},
   "outputs": [
    {
     "data": {
      "text/plain": [
       "tensor([[[[ 0.,  1.,  0.,  0.,  0., -1.,  0.],\n",
       "          [ 0.,  1.,  0.,  0.,  0., -1.,  0.],\n",
       "          [ 0.,  1.,  0.,  0.,  0., -1.,  0.],\n",
       "          [ 0.,  1.,  0.,  0.,  0., -1.,  0.],\n",
       "          [ 0.,  1.,  0.,  0.,  0., -1.,  0.],\n",
       "          [ 0.,  1.,  0.,  0.,  0., -1.,  0.]]]])"
      ]
     },
     "execution_count": 14,
     "metadata": {},
     "output_type": "execute_result"
    }
   ],
   "source": []
  },
  {
   "cell_type": "code",
   "execution_count": null,
   "id": "2a1f21b6-6f3d-4a4f-9cdf-36da366a709a",
   "metadata": {},
   "outputs": [],
   "source": []
  }
 ],
 "metadata": {
  "kernelspec": {
   "display_name": "Python 3 (ipykernel)",
   "language": "python",
   "name": "python3"
  },
  "language_info": {
   "codemirror_mode": {
    "name": "ipython",
    "version": 3
   },
   "file_extension": ".py",
   "mimetype": "text/x-python",
   "name": "python",
   "nbconvert_exporter": "python",
   "pygments_lexer": "ipython3",
   "version": "3.10.8"
  }
 },
 "nbformat": 4,
 "nbformat_minor": 5
}
