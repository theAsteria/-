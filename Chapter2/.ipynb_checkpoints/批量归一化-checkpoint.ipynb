{
 "cells": [
  {
   "cell_type": "code",
   "execution_count": 2,
   "id": "6ccd81aa-c3bc-4702-bef1-fac4cafddd40",
   "metadata": {},
   "outputs": [],
   "source": [
    "import torch\n",
    "from torch import nn\n",
    "from d2l import torch as d2l\n",
    "\n",
    "def batch_norm(X,gamma,beta,running_mean,running_var,eps,momentum):\n",
    "    if not torch.is_grad_enabled():#在做inference\n",
    "        X_hat=(X-running_mean)/torch.sqrt(running_var+eps)\n",
    "    else:\n",
    "        assert len(X.shape) in(2,4)\n",
    "        if len(X.shape)==2:\n",
    "            mean=X.mean(dim=0)\n",
    "            var=((X-mean)**2).mean(dim=0)\n",
    "        else:\n",
    "            mean=X.mean(dim=(0,2,3),keepdim=True)\n",
    "            var=((X-mean)**2).mean(dim=(0,2,3),keepdim=True)\n",
    "        X_hat=(X-mean)/torch.sqrt(var+eps)\n",
    "        running_mean=momentum*running_mean+(1.0-momentum)*mean\n",
    "        running_mean=momentum*runing_var+(1.0-momentum)*var\n",
    "    Y=gamma*X_hat+beta\n",
    "    return Y,running_mean.data,running_var.data"
   ]
  },
  {
   "cell_type": "code",
   "execution_count": 9,
   "id": "6ac38b78-5c01-4ff3-931c-005bddb22e09",
   "metadata": {},
   "outputs": [
    {
     "name": "stdout",
     "output_type": "stream",
     "text": [
      "tensor([1.5000, 5.7500])\n"
     ]
    }
   ],
   "source": [
    "X=torch.tensor([[0.0,1.0,2.0,3.0],[4.0,5.0,6.0,8.0]])\n",
    "print(X.mean(dim=1))"
   ]
  },
  {
   "cell_type": "code",
   "execution_count": null,
   "id": "84c1a60c-4856-4e60-9456-d3b3a9730f5e",
   "metadata": {},
   "outputs": [],
   "source": []
  }
 ],
 "metadata": {
  "kernelspec": {
   "display_name": "Python 3 (ipykernel)",
   "language": "python",
   "name": "python3"
  },
  "language_info": {
   "codemirror_mode": {
    "name": "ipython",
    "version": 3
   },
   "file_extension": ".py",
   "mimetype": "text/x-python",
   "name": "python",
   "nbconvert_exporter": "python",
   "pygments_lexer": "ipython3",
   "version": "3.10.8"
  }
 },
 "nbformat": 4,
 "nbformat_minor": 5
}
