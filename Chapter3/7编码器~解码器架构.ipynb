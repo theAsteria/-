{
 "cells": [
  {
   "cell_type": "code",
   "execution_count": 1,
   "id": "e526c98e-f0f5-47fe-9242-39927263a26c",
   "metadata": {},
   "outputs": [],
   "source": [
    "from torch import nn\n",
    "\n",
    "class Encoder(nn.Module):\n",
    "\n",
    "    def __init__(self,**kwargs):\n",
    "        super(Encoder,self).__init__(**kwargs)\n",
    "    def forward(self,X,*args):\n",
    "        raise NotImplementedError"
   ]
  },
  {
   "cell_type": "code",
   "execution_count": 2,
   "id": "1aba0a7e-decd-4c79-90d9-2ae6063aecea",
   "metadata": {},
   "outputs": [],
   "source": [
    "class Decoder(nn.Module):\n",
    "    def __init__(self,**kwargs):\n",
    "        super(Encoder,self).__init__(**kwargs)\n",
    "    def init_stage(self,enc_outputs,*args):\n",
    "        raise NotImplementedError\n",
    "    def forward(self,X,state):\n",
    "        raise NotImplementedError"
   ]
  },
  {
   "cell_type": "code",
   "execution_count": 4,
   "id": "7d0f3411-929f-4602-b3ff-baae14d2a8cc",
   "metadata": {},
   "outputs": [],
   "source": [
    "class EncoderDecoder(nn.Module):\n",
    "    def __init__(self,encoder,decoder,**kwargs):\n",
    "        super(EncoderDecoder,self).__init__(**kwargs)\n",
    "        self.encoder=encoder\n",
    "        self.decoder=decoder\n",
    "    def forward(self,enc_X,dec_X,*args):\n",
    "        enc_outputs=self.encoder(enc_X,*args)\n",
    "        dec_state=self.decoder.init_stage(enc_outputs,*args)\n",
    "        return self.decoder(dec_X,dec_state)"
   ]
  },
  {
   "cell_type": "code",
   "execution_count": null,
   "id": "1dcfbd9d-30b7-4ef9-bf68-ed80b6b56542",
   "metadata": {},
   "outputs": [],
   "source": []
  }
 ],
 "metadata": {
  "kernelspec": {
   "display_name": "Python 3 (ipykernel)",
   "language": "python",
   "name": "python3"
  },
  "language_info": {
   "codemirror_mode": {
    "name": "ipython",
    "version": 3
   },
   "file_extension": ".py",
   "mimetype": "text/x-python",
   "name": "python",
   "nbconvert_exporter": "python",
   "pygments_lexer": "ipython3",
   "version": "3.10.8"
  }
 },
 "nbformat": 4,
 "nbformat_minor": 5
}
