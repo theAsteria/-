{
 "cells": [
  {
   "cell_type": "markdown",
   "id": "b08f98f1-6ecd-4691-a181-a05e74e9aaf9",
   "metadata": {},
   "source": [
    "和深度循环几乎一致，增加bio...属性"
   ]
  },
  {
   "cell_type": "code",
   "execution_count": null,
   "id": "6c34cab3-76f1-4c39-a267-2ba25022d58c",
   "metadata": {},
   "outputs": [],
   "source": []
  }
 ],
 "metadata": {
  "kernelspec": {
   "display_name": "Python 3 (ipykernel)",
   "language": "python",
   "name": "python3"
  },
  "language_info": {
   "codemirror_mode": {
    "name": "ipython",
    "version": 3
   },
   "file_extension": ".py",
   "mimetype": "text/x-python",
   "name": "python",
   "nbconvert_exporter": "python",
   "pygments_lexer": "ipython3",
   "version": "3.10.8"
  }
 },
 "nbformat": 4,
 "nbformat_minor": 5
}
